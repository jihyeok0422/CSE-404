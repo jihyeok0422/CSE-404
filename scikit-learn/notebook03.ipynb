{
  "cells": [
    {
      "metadata": {
        "state": "normal"
      },
      "cell_type": "markdown",
      "source": "# Linear Regression\n\n### Recap\nA linear model makes a prediction by computing a weighted sum of the input features and a constant (bias).    \nBasic linear regression model: $\\hat{y}$ = $\\theta$<sub>0</sub> + $\\theta$<sub>1</sub>x<sub>1</sub> + $\\theta$<sub>2</sub>x<sub>2</sub> + ... + $\\theta$<sub>n</sub>x<sub>n</sub>    \n* $\\hat{y}$ is the predicted value   \n* n is the number of features\n* x<sub>i</sub> is the i<sup>th</sup> feature value\n* $\\theta$<sub>j</sub> is the j<sup>th</sup> model parameter ($\\theta$<sub>0</sub> is the bias term; $\\theta$<sub>1</sub> .. $\\theta$<sub>n</sub> are the feature weights)   \n\nUsing linear algebra we can work with this equation in its closed form solution (also called normal equation). Recall the closed form solution for linear regression from class: w* = (X<sup>T</sup>X)<sup>-1</sup> X<sup>T</sup>y\n\nWe can think of the weights (w*) as the general parameter, $\\theta$: $\\hat{\\theta}$ = (X<sup>T</sup>X)<sup>-1</sup> X<sup>T</sup>y\n\n$\\hat{\\theta}$ is the values of $\\theta$ that minimizes the cost function    \ny is the target vector (i.e., labels or actual y values) \n"
    },
    {
      "metadata": {
        "state": "normal"
      },
      "cell_type": "markdown",
      "source": "### Part 1: Closed Form Solution"
    },
    {
      "metadata": {
        "state": "normal",
        "trusted": false
      },
      "cell_type": "code",
      "source": "# Import packages\nimport numpy as np\nimport sklearn",
      "execution_count": 12,
      "outputs": []
    },
    {
      "metadata": {
        "state": "normal",
        "trusted": false
      },
      "cell_type": "code",
      "source": "# For plots\n%matplotlib inline\nimport matplotlib as mpl\nimport matplotlib.pyplot as plt\nmpl.rc('axes', labelsize=14)\nmpl.rc('xtick', labelsize=12)\nmpl.rc('ytick', labelsize=12)",
      "execution_count": 13,
      "outputs": []
    },
    {
      "metadata": {
        "state": "normal",
        "trusted": false
      },
      "cell_type": "code",
      "source": "# Create linear-like data to test first equation\nX = 2 * np.random.rand(100, 1)\n\n# Function for generating data: y = 4 + 3x_1 + Gaussian noise\n# So theta0 = 4 & theta1 = 3\ny = 4 + 3 * X + np.random.randn(100, 1)",
      "execution_count": 14,
      "outputs": []
    },
    {
      "metadata": {
        "state": "normal",
        "trusted": false
      },
      "cell_type": "code",
      "source": "# Visualize dataset \nplt.plot(X, y, \"b.\")\nplt.xlabel(\"$x_1$\", fontsize=18)\nplt.ylabel(\"$y$\", rotation=0, fontsize=18)\nplt.axis([0, 2, 0, 15])\nplt.show()",
      "execution_count": 15,
      "outputs": []
    },
    {
      "metadata": {
        "state": "normal",
        "trusted": false
      },
      "cell_type": "code",
      "source": "# Add x0 = 1 to each instance\nX2 = np.c_[np.ones((100, 1)), X]",
      "execution_count": 18,
      "outputs": []
    },
    {
      "metadata": {
        "state": "graded",
        "deletable": false,
        "id": "big_oor",
        "starter_code": "# Use linalg inv & dot to calculate the closed form solution with X2 & y\ntheta_hat = ",
        "trusted": false
      },
      "cell_type": "code",
      "source": "# Use linalg inv & dot to calculate the closed form solution with X2 & y\ntheta_hat = ",
      "execution_count": null,
      "outputs": []
    },
    {
      "metadata": {
        "state": "normal",
        "trusted": false
      },
      "cell_type": "code",
      "source": "# Print theta_hat\ntheta_hat",
      "execution_count": 44,
      "outputs": []
    },
    {
      "metadata": {
        "state": "graded",
        "deletable": false,
        "id": "gray_vali",
        "starter_code": "# TODO: Answer in the comments\n# theta_hat should print values around [4.3, 2.8]-ish\n# But theta0 = 4 & theta1 = 3\n# Why couldn't we recover the exact parameters of our original function?\n# Your answer: ",
        "trusted": false
      },
      "cell_type": "code",
      "source": "# TODO: Answer in the comments\n# theta_hat should print values around [4.3, 2.8]-ish\n# But theta0 = 4 & theta1 = 3\n# Why couldn't we recover the exact parameters of our original function?\n# Your answer: ",
      "execution_count": null,
      "outputs": []
    },
    {
      "metadata": {
        "state": "graded",
        "deletable": false,
        "id": "fit_loki",
        "starter_code": "# Task of the next 3 cells: Make a prediction using theta_hat\n# Create a new dataset (what dimensions should it be?)\nX_new = \n",
        "trusted": false
      },
      "cell_type": "code",
      "source": "# Task of the next 3 cells: Make a prediction using theta_hat\n# Create a new dataset (what dimensions should it be?)\nX_new = \n",
      "execution_count": null,
      "outputs": []
    },
    {
      "metadata": {
        "state": "graded",
        "deletable": false,
        "id": "calm_magni",
        "starter_code": "# Add x0 = 1 to each instance\nX_new2 = ",
        "trusted": false
      },
      "cell_type": "code",
      "source": "# Add x0 = 1 to each instance\nX_new2 = ",
      "execution_count": null,
      "outputs": []
    },
    {
      "metadata": {
        "state": "graded",
        "deletable": false,
        "id": "red_sol",
        "starter_code": "# Use your model to make a prediction on your new dataset\ny_predict = ",
        "trusted": false
      },
      "cell_type": "code",
      "source": "# Use your model to make a prediction on your new dataset\ny_predict = ",
      "execution_count": null,
      "outputs": []
    },
    {
      "metadata": {
        "state": "normal",
        "trusted": false
      },
      "cell_type": "code",
      "source": "# Print y_predict\ny_predict",
      "execution_count": 49,
      "outputs": []
    },
    {
      "metadata": {
        "state": "graded",
        "deletable": false,
        "id": "big_thor",
        "starter_code": "# Plot your new model's predictions\n# You should see a red line falling mostly in the middle of the blue data points\nplt.plot( , , \"r-\")\n\n# Plots the original data\nplt.plot(X, y, \"b.\")\nplt.axis([0, 2, 0, 15])\nplt.show( )",
        "trusted": false
      },
      "cell_type": "code",
      "source": "# Plot your new model's predictions\n# You should see a red line falling mostly in the middle of the blue data points\nplt.plot( , , \"r-\")\n\n# Plots the original data\nplt.plot(X, y, \"b.\")\nplt.axis([0, 2, 0, 15])\nplt.show( )",
      "execution_count": null,
      "outputs": []
    },
    {
      "metadata": {
        "state": "normal"
      },
      "cell_type": "markdown",
      "source": "### Part 2: Using Scikit-Learn\nScikit-Learn's LinearRegression class is based on scipy.linalg.lstsq() (Least Squares). "
    },
    {
      "metadata": {
        "state": "graded",
        "deletable": false,
        "id": "red_ran",
        "starter_code": "# Import the LinearRegression class\nfrom sklearn.",
        "trusted": false
      },
      "cell_type": "code",
      "source": "# Import the LinearRegression class\nfrom sklearn.",
      "execution_count": null,
      "outputs": []
    },
    {
      "metadata": {
        "state": "graded",
        "deletable": false,
        "id": "stoic_loki",
        "starter_code": "# Create a LinearRegression instance\nlin_reg = ",
        "trusted": false
      },
      "cell_type": "code",
      "source": "# Create a LinearRegression instance\nlin_reg = ",
      "execution_count": null,
      "outputs": []
    },
    {
      "metadata": {
        "state": "graded",
        "deletable": false,
        "id": "sly_boi",
        "starter_code": "# Fit your model\n# NOTE: there is a bug in Windows for this method\n# If you get this error: ValueError: illegal value in 4th argument of internal None\n# Go to the previous cell and create your class instance with the argument: normalize = True\n",
        "trusted": false
      },
      "cell_type": "code",
      "source": "# Fit your model\n# NOTE: there is a bug in Windows for this method\n# If you get this error: ValueError: illegal value in 4th argument of internal None\n# Go to the previous cell and create your class instance with the argument: normalize = True\n",
      "execution_count": null,
      "outputs": []
    },
    {
      "metadata": {
        "state": "graded",
        "deletable": false,
        "id": "red_odin",
        "starter_code": "# Print the intercept of your model\n",
        "trusted": false,
        "scrolled": true
      },
      "cell_type": "code",
      "source": "# Print the intercept of your model\n",
      "execution_count": null,
      "outputs": []
    },
    {
      "metadata": {
        "state": "graded",
        "deletable": false,
        "id": "big_ran",
        "starter_code": "# Print the estimated coefficients of your model\n",
        "trusted": false
      },
      "cell_type": "code",
      "source": "# Print the estimated coefficients of your model\n",
      "execution_count": null,
      "outputs": []
    },
    {
      "metadata": {
        "state": "graded",
        "deletable": false,
        "id": "red_saga",
        "starter_code": "# Use your model to make a prediction on X_new\n# Don't need to answer: are your results similar to y_predict?\n",
        "trusted": false
      },
      "cell_type": "code",
      "source": "# Use your model to make a prediction on X_new\n# Don't need to answer: are your results similar to y_predict?\n",
      "execution_count": null,
      "outputs": []
    },
    {
      "metadata": {
        "state": "normal"
      },
      "cell_type": "markdown",
      "source": "### Part3: Stochastic Gradient Descent"
    },
    {
      "metadata": {
        "state": "graded",
        "deletable": false,
        "id": "aged_sol",
        "starter_code": "# Import the SGDRegressor class\nfrom sklearn.",
        "trusted": false
      },
      "cell_type": "code",
      "source": "# Import the SGDRegressor class\nfrom sklearn.",
      "execution_count": null,
      "outputs": []
    },
    {
      "metadata": {
        "state": "graded",
        "deletable": false,
        "id": "eager_mimir",
        "starter_code": "# Create an SGDRegressor with\n# Maximum number of iterations = 1000\n# Training stopping criterion of 1e-3 \n# Ridge regularization term\n# Initial learning rate of 0.001\nsgd_reg = ",
        "trusted": false
      },
      "cell_type": "code",
      "source": "# Create an SGDRegressor with\n# Maximum number of iterations = 1000\n# Training stopping criterion of 1e-3 \n# Ridge regularization term\n# Initial learning rate of 0.001\nsgd_reg = ",
      "execution_count": null,
      "outputs": []
    },
    {
      "metadata": {
        "state": "graded",
        "deletable": false,
        "id": "gray_odin",
        "starter_code": "# Fit the model \n",
        "trusted": false
      },
      "cell_type": "code",
      "source": "# Fit the model \n",
      "execution_count": null,
      "outputs": []
    },
    {
      "metadata": {
        "state": "graded",
        "deletable": false,
        "id": "able_vali",
        "starter_code": "# Print the intercept\n",
        "trusted": false
      },
      "cell_type": "code",
      "source": "# Print the intercept\n",
      "execution_count": null,
      "outputs": []
    },
    {
      "metadata": {
        "state": "graded",
        "deletable": false,
        "id": "spicy_nott",
        "starter_code": "# Print the estimated coefficients\n",
        "trusted": false
      },
      "cell_type": "code",
      "source": "# Print the estimated coefficients\n",
      "execution_count": null,
      "outputs": []
    },
    {
      "metadata": {
        "state": "normal"
      },
      "cell_type": "markdown",
      "source": "The intercept and coefficient should be close to the values of $\\hat{\\theta}$ found by the closed form solution in Part 1. If they're not, you can (optionally) change the regularization and learning rate until you find values that work better. "
    }
  ],
  "metadata": {
    "kernelspec": {
      "name": "python3",
      "display_name": "Python 3",
      "language": "python"
    },
    "language_info": {
      "name": "python",
      "version": "3.7.3",
      "mimetype": "text/x-python",
      "codemirror_mode": {
        "name": "ipython",
        "version": 3
      },
      "pygments_lexer": "ipython3",
      "nbconvert_exporter": "python",
      "file_extension": ".py"
    },
    "mimir": {
      "project_id": "dfd2074c-02bf-4aac-8aa5-af16de004f02",
      "last_submission_id": "",
      "data": {}
    },
    "varInspector": {
      "window_display": false,
      "cols": {
        "lenName": 16,
        "lenType": 16,
        "lenVar": 40
      },
      "kernels_config": {
        "python": {
          "library": "var_list.py",
          "delete_cmd_prefix": "del ",
          "delete_cmd_postfix": "",
          "varRefreshCmd": "print(var_dic_list())"
        },
        "r": {
          "library": "var_list.r",
          "delete_cmd_prefix": "rm(",
          "delete_cmd_postfix": ") ",
          "varRefreshCmd": "cat(var_dic_list()) "
        }
      },
      "types_to_exclude": [
        "module",
        "function",
        "builtin_function_or_method",
        "instance",
        "_Feature"
      ]
    }
  },
  "nbformat": 4,
  "nbformat_minor": 2
}